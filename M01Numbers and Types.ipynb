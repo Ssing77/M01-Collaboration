{
 "cells": [
  {
   "cell_type": "code",
   "execution_count": null,
   "id": "3f529e20-2b50-4344-ad1e-878b2fd1f430",
   "metadata": {},
   "outputs": [],
   "source": [
    "#Sahajpreet Singh\n",
    "#3/25/2024\n",
    "#M01 Programming Assignment - Numbers and Types\n",
    "#3.1 - 3.6\n",
    "\n",
    "seconds_in_minute = 60\n",
    "minutes_in_hour = 60\n",
    "seconds_in_hour = seconds_in_minute * minutes_in_hour\n",
    "print(seconds_in_hour)\n",
    "\n",
    "hours_in_day = 24\n",
    "seconds_in_day = seconds_in_hour * hours_in_day\n",
    "print(seconds_in_day)\n",
    "\n",
    "day_hour = seconds_in_day // seconds_in_hour\n",
    "print(day_hour)"
   ]
  }
 ],
 "metadata": {
  "kernelspec": {
   "display_name": "Python 3 (ipykernel)",
   "language": "python",
   "name": "python3"
  },
  "language_info": {
   "codemirror_mode": {
    "name": "ipython",
    "version": 3
   },
   "file_extension": ".py",
   "mimetype": "text/x-python",
   "name": "python",
   "nbconvert_exporter": "python",
   "pygments_lexer": "ipython3",
   "version": "3.11.7"
  }
 },
 "nbformat": 4,
 "nbformat_minor": 5
}
